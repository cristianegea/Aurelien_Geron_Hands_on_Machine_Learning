{
  "nbformat": 4,
  "nbformat_minor": 0,
  "metadata": {
    "colab": {
      "name": "2. End-to-End Machine Learning Project.ipynb",
      "provenance": [],
      "collapsed_sections": [],
      "toc_visible": true,
      "authorship_tag": "ABX9TyMs6q2hnk+1tF5m1dCGOSHR",
      "include_colab_link": true
    },
    "kernelspec": {
      "name": "python3",
      "display_name": "Python 3"
    },
    "language_info": {
      "name": "python"
    }
  },
  "cells": [
    {
      "cell_type": "markdown",
      "metadata": {
        "id": "view-in-github",
        "colab_type": "text"
      },
      "source": [
        "<a href=\"https://colab.research.google.com/github/cristianegea/Aurelien_Geron_Hands_on_Machine_Learning/blob/main/2_End_to_End_Machine_Learning_Project.ipynb\" target=\"_parent\"><img src=\"https://colab.research.google.com/assets/colab-badge.svg\" alt=\"Open In Colab\"/></a>"
      ]
    },
    {
      "cell_type": "markdown",
      "metadata": {
        "id": "szSifQr6JtCv"
      },
      "source": [
        "# Livro: Hands-On Machine Learning with Scikit-Learn, Keras, and TensorFlow: Concepts, Tools, and Techniques to Build Intelligent Systems\n",
        "\n",
        "# Autor: Aurélien Géron\n",
        "\n",
        "# Chapter 2 - End-to-End Machine Learning Project"
      ]
    },
    {
      "cell_type": "markdown",
      "metadata": {
        "id": "brnbCkPQJ_t9"
      },
      "source": [
        ""
      ]
    },
    {
      "cell_type": "markdown",
      "metadata": {
        "id": "-NvCkGhzOQFE"
      },
      "source": [
        "# 1. Performance Measure\n",
        "\n",
        "**Raiz quadrata do erro quadrático médio (RMSE)**: fornece uma ideia do quanto o sistema está errando em suas predições, com um peso alto para erros grandes.\n",
        "\n",
        "$$\n",
        "\\text{RMSE} (\\mathbf{X},h) = \\sqrt{\\frac{1}{m} \\sum^m_{i=1} \\left(h(\\mathbf{x^{(i)}}) - y^{(i)} \\right)^2 }\n",
        "$$\n",
        "\n",
        "onde $m$ é o número de instâncias na dataset, $\\mathbf{x^{(i)}}$ é um vetor de todos os valores de features da $i$-ésima instância no dataset e $y^{(i)}$ é o seu rótulo (valor do output desejado para a instância), $h$ é a função de predição do sistema (chamada de hipótese). $\\text{RMSE} (\\mathbf{X},h)$ é a função de custo mensurada sobre o conjunto de exemplos utilizando a hipótese $h$. $\\mathbf{X}$ é a matriz contendo todos os valore de features (com exceção dos rótulos) de todas as instâncias no dataset.\n",
        "\n",
        "$$\n",
        "\\mathbf{X} = \\left[\\mathbf{x^{(1)}} \\ \\ \\mathbf{x^{(2)}} \\ \\ \\dots \\ \\ \\mathbf{x^{(m)}} \\right]\n",
        "$$\n",
        "\n",
        "Quando o sistema recebe um vetor de feature $\\mathbf{x^{(1)}}$ de instâncias, ele gera um valor predito $\\hat{y}^{(i)} = h(\\mathbf{x^{(i)}})$ para a instância.\n",
        "\n",
        "**Erro médio absoluto (MAE)**: fornece uma medida do desvio absoluto médio do sistema.\n",
        "\n",
        "$$\n",
        "\\text{MAE} (\\mathbf{X},h) = \\frac{1}{m} \\sum^m_{i=1} \\left|h(\\mathbf{x^{(i)}}) - y^{(i)} \\right|\n",
        "$$"
      ]
    },
    {
      "cell_type": "markdown",
      "metadata": {
        "id": "nWqcQNvgRxUA"
      },
      "source": [
        ""
      ]
    }
  ]
}