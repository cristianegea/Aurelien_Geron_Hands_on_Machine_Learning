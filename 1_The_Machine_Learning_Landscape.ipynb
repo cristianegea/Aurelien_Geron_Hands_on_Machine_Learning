{
  "nbformat": 4,
  "nbformat_minor": 0,
  "metadata": {
    "colab": {
      "name": "1. The Machine Learning Landscape.ipynb",
      "provenance": [],
      "collapsed_sections": [],
      "toc_visible": true,
      "authorship_tag": "ABX9TyOkDr3g9ZjvenugDdYjm8P7",
      "include_colab_link": true
    },
    "kernelspec": {
      "name": "python3",
      "display_name": "Python 3"
    },
    "language_info": {
      "name": "python"
    }
  },
  "cells": [
    {
      "cell_type": "markdown",
      "metadata": {
        "id": "view-in-github",
        "colab_type": "text"
      },
      "source": [
        "<a href=\"https://colab.research.google.com/github/cristianegea/Aurelien_Geron_Hands_on_Machine_Learning/blob/main/1_The_Machine_Learning_Landscape.ipynb\" target=\"_parent\"><img src=\"https://colab.research.google.com/assets/colab-badge.svg\" alt=\"Open In Colab\"/></a>"
      ]
    },
    {
      "cell_type": "markdown",
      "metadata": {
        "id": "GBvfG2xatsM-"
      },
      "source": [
        "# Livro: Hands-On Machine Learning with Scikit-Learn, Keras, and TensorFlow: Concepts, Tools, and Techniques to Build Intelligent Systems\n",
        "\n",
        "# Autor: Aurélien Géron\n",
        "\n",
        "# Chapter 1 - The Machine Learning Landscape"
      ]
    },
    {
      "cell_type": "markdown",
      "metadata": {
        "id": "ZhSuSXDvv1Ol"
      },
      "source": [
        "## 1. What is Machine Learning?\n",
        "\n",
        "Machine Learning é o campo de estudo que dá aos computadores a capacidade de aprender sem serem explicitamente programados (Arthur Samuel 1959).\n",
        "\n",
        "Um programa de computador é aprende a partir da experiência E, acerca de alguma tarefa T e com alguma medida de desempenho P, e seu desempenho em T melhora com a experiência E (Tom Mitchell 1997).\n",
        "\n",
        "Os exemplos que o sistema utiliza são chamados de conjunto de treinamento (trainning set), onde cada exemplo de treinamento é chamado de instância de treinamento (ou amostra).\n",
        "\n"
      ]
    },
    {
      "cell_type": "markdown",
      "metadata": {
        "id": "Fg_DCcm6y_ak"
      },
      "source": [
        "## 2. Types of Machine Learning Systems\n",
        "\n",
        "Critérios utilizados para diferenciar os diferentes tipos de sisyemas de aprendizado de máquinas:\n",
        "\n",
        "* Se são, ou não, treinados com supervisão humana (aprendizado supervisionado, não supervisionado, semi-supervisionado, por reforço).\n",
        "\n",
        "* Se podem, ou não, aprender incrementalmente na hora (aprendizado online, aprendizado por batch).\n",
        "\n",
        "* Se trabalham simplesmente comparando novos pontos de dados com pontos de dados conhecidos, ou detectando padrões nos dados de treinamento e construindo um modelo preditivo (aprendizado baseado em instância, aprendizado baseado em modelo).\n",
        "\n",
        "Os critérios acima não são exclusivos, mas podem ser combinados com quaisquer outros.\n"
      ]
    },
    {
      "cell_type": "markdown",
      "metadata": {
        "id": "Q7JLZjS_0Y-x"
      },
      "source": [
        "### 2.1. Supervised/Unsupervised Learning\n",
        "\n",
        "Sistemas de aprendizado de máquinas podem ser classificados de acordo com o montante e o tipo de supervisão que eles obtém durante o treinamento.\n",
        "\n",
        "**Aprendizado supervisionado (supervised learning)**:\n",
        "\n",
        "* O conjunto de treinamento possui rótulos (ou seja, inclui as soluções desejáveis). Ex.: classificação, regressão.\n",
        "\n",
        "* Principais algoritmos de aprendizado supervisionado: k-Nearest Neighbors (k-NN), Regressão Linear, Regressão Logística, Support Vector Machine (SVM), Decision Tree e Random Forest, Redes Neurais.\n",
        "\n",
        "**Aprendizado não supervisionado (Unsupervised Learning)**:\n",
        "\n",
        "* O conjunto de treinamento não possui rótulos (ou seja, o sistema aprende sem um professor).\n",
        "\n",
        "* Principais algoritmos de aprendizado não supervisionado: agrupamento (K-Means, DBSCAN, Hierarchical Cluster Analysis - HCA), detecção de anomalias/detecção de novidades (One-class SVM, Isolation Forext), visualização/redução de dimensionalidade (Principal Component Analysis - PCA, Kernel PCA, Locally Linear Embedding - LLE, t-Distributed Stochastic Neighbor Embedding - t-SNE), regra de associação (Apriori, Eclat).\n",
        "\n",
        "**Aprendizado semi-supervisionado (Semisupervised Learning)**:\n",
        "\n",
        "* O conjunto de treinamento é parcialmente rotulado (ou seja, possui poucas instâncias rotuladas, enquanto as demais não estão rotuladas).\n",
        "\n",
        "* A maioria dos algoritmos de aprendizado semi-supervisionado são combinações de algoritmos de aprendizado supervisionado e de aprendizado não supervisionado.\n",
        "\n",
        "**Aprendizado por reforço (Reinforcement Learning)**:\n",
        "\n",
        "* Possui uma dinâmica diferente dos demais tipos de aprendizado.\n",
        "\n",
        "* O sistema de aprendizado (agente) pode observar o ambiente, selecionar e executar ações. Com isso, pode obter recompensas no retorno (ou penalidades na forma de recompensas negativas). A parti daí, o sistema deve aprender por si só qual é a melhor estratégia (política) a ser adotada para obter o máximo de recompensa ao longo do tempo. Uma política define qual ação o agente deve escolher em determinada situação."
      ]
    },
    {
      "cell_type": "markdown",
      "metadata": {
        "id": "ogPhDR7zCm6y"
      },
      "source": [
        "### 2.2. Batch & Online Learning\n",
        "\n",
        "O sistema de aprendizado de máquinas pode ser classificado pela capacidade de aprender incrementalmente a partir do fluxo de dados de entrada.\n",
        "\n",
        "**Batch Learning (aprendizado offline)**:\n",
        "\n",
        "* O sistema é incapaz de aprender incrementalmente. Assim, o sistema deve ser treinado utilizando todos os dados disponíveis.\n",
        "\n",
        "* Esse tipo de aprendizado toma bastante tempo e recursos computacionais (principalmente feito offline).\n",
        "\n",
        "* Inicialmente, o sistema é treinado. Posteriormente, é lançado em produção e executado sem aprender mais nada, aplicando somente o que já tinha aprendido.\n",
        "\n",
        "* Para o sistema aprender novos dados é preciso treinar uma nova versão deste sistema no novo conjunto de dados (contendo tanto os dados antigos como os dados novos). Contudo, esse processo requer a substituição da versão antiga do sistema pela versão nova.\n",
        "\n",
        "* O processo de treinamento, avaliação e produção do sistema pode ser automatizado, uma vez que o sistema de aprendizado por batch pode se adaptar a mudanças.\n",
        "\n",
        "**Online Learning**:\n",
        "\n",
        "* O sistema pode ser treinado incrementalmente pela alimentação das instâncias de dados sequencialmente, ou individualmente ou em pequenos grupos (mini-batches).\n",
        "\n",
        "* Cada etapa de aprendizado, além de ser mais rápida, é menos custosa.\n",
        "\n",
        "* É ideal para sistemas que recebem dados em um fluxo contínuo e precisam se adaptar rapidamente a mudanças."
      ]
    },
    {
      "cell_type": "markdown",
      "metadata": {
        "id": "IfiP4DnlND7L"
      },
      "source": [
        "### 2.3. Instance-Based Versus Model-Based Learning\n",
        "\n",
        "Uma forma de categorizar os sistemas de aprendizado de máquinas é pela sua capacidade de generalização.\n",
        "\n",
        "A maioria das tarefas de aprendizado de máquinas é sobre predições. Dado um número de exemplos de treinamentos, o sistema necessida ser capaz de fazer boas predições para os exemplos não vistos durante a etapa de treinamento. \n",
        "\n",
        "Abordagens para generalização:\n",
        "\n",
        "* **Instance-based learning**: o sistema aprende os exemplos, então generaliza para os novos cados utilizando medidas de similaridade para compará-los aos exemplos de aprendizado.\n",
        "\n",
        "* **Model-based learning**: primeiramente, é construído um modelo a partir dos exemplos e, posteriormente, este mesmo modelo é utilizado para fazer predições."
      ]
    },
    {
      "cell_type": "markdown",
      "metadata": {
        "id": "dyoEjn4zPFdL"
      },
      "source": [
        "## Exemplo: Dinheiro traz felicidade? \n",
        "\n",
        "Hipótese a ser testada ($H_0$): dinheiro traz felicidade.  \n",
        "\n",
        "$$\n",
        "\\text{life_satisfaction} = \\theta_0 + \\theta_1 \\times \\text{GDP_per_capita}\n",
        "$$\n",
        "\n",
        "onde $\\text{life_satisfaction}$ corresponde a *Better Life Index* (fonte OCDE) e $\\text{GDP_per_capita}$ corresponde ao PIB per capita (fonte FMI). O modelo possui 2 parâmetros, $\\theta_0$ e $\\theta_1$.\n",
        "\n",
        "Antes de utilizar o modelo, é preciso definir o valor dos parâmetros $\\theta_0$ e $\\theta_1$.\n",
        "\n",
        "Para problemas de regressão linear, geralmente é utilizada uma função de custo, que mede a distância entre as predições do modelo linear e os exemplos de treinamento. O objetivo é minimizar esta distância (minimizar a função de custo)."
      ]
    },
    {
      "cell_type": "code",
      "metadata": {
        "id": "CRcKhF6_hPxK"
      },
      "source": [
        "# Bibliotecas\n",
        "import matplotlib.pyplot as plt\n",
        "import numpy as np\n",
        "import pandas as pd\n",
        "import sklearn.linear_model"
      ],
      "execution_count": 1,
      "outputs": []
    },
    {
      "cell_type": "code",
      "metadata": {
        "id": "RuKyplj7i672"
      },
      "source": [
        "# Preparação dos dados da OCDE com os dados do FMI\n",
        "def prepare_country_stats(oecd_bli, gdp_per_capita):\n",
        "    oecd_bli = oecd_bli[oecd_bli[\"INEQUALITY\"]==\"TOT\"]\n",
        "    oecd_bli = oecd_bli.pivot(index=\"Country\", columns=\"Indicator\", values=\"Value\")\n",
        "    gdp_per_capita.rename(columns={\"2015\": \"GDP per capita\"}, inplace=True)\n",
        "    gdp_per_capita.set_index(\"Country\", inplace=True)\n",
        "    full_country_stats = pd.merge(left=oecd_bli, right=gdp_per_capita,\n",
        "                                  left_index=True, right_index=True)\n",
        "    full_country_stats.sort_values(by=\"GDP per capita\", inplace=True)\n",
        "    remove_indices = [0, 1, 6, 8, 33, 34, 35]\n",
        "    keep_indices = list(set(range(36)) - set(remove_indices))\n",
        "    return full_country_stats[[\"GDP per capita\", 'Life satisfaction']].iloc[keep_indices]"
      ],
      "execution_count": 7,
      "outputs": []
    },
    {
      "cell_type": "markdown",
      "metadata": {
        "id": "vFJVirgakgEY"
      },
      "source": [
        "Segundo o autor, o código no livro espera que os arquivos dos dados sejam localizados no diretório atual (neste caso, diretório do autor no GitHub)."
      ]
    },
    {
      "cell_type": "code",
      "metadata": {
        "id": "UrYwExpMjIjx"
      },
      "source": [
        "import os\n",
        "datapath = os.path.join(\"datasets\", \"lifesat\", \"\")"
      ],
      "execution_count": 8,
      "outputs": []
    },
    {
      "cell_type": "code",
      "metadata": {
        "id": "GFnk2ZEWk2ap"
      },
      "source": [
        "# To plot pretty figures directly within Jupyter\n",
        "%matplotlib inline\n",
        "import matplotlib as mpl\n",
        "mpl.rc('axes', labelsize=14)\n",
        "mpl.rc('xtick', labelsize=12)\n",
        "mpl.rc('ytick', labelsize=12)"
      ],
      "execution_count": 9,
      "outputs": []
    },
    {
      "cell_type": "code",
      "metadata": {
        "colab": {
          "base_uri": "https://localhost:8080/"
        },
        "id": "XuYnGvQFheej",
        "outputId": "0e8f5dbc-9eee-42a2-b5ba-d1d33fc0170d"
      },
      "source": [
        "# Download the data \n",
        "import urllib.request\n",
        "DOWNLOAD_ROOT = \"https://raw.githubusercontent.com/ageron/handson-ml2/master/\"\n",
        "os.makedirs(datapath, exist_ok=True)\n",
        "for filename in (\"oecd_bli_2015.csv\", \"gdp_per_capita.csv\"):\n",
        "    print(\"Downloading\", filename)\n",
        "    url = DOWNLOAD_ROOT + \"datasets/lifesat/\" + filename\n",
        "    urllib.request.urlretrieve(url, datapath + filename)"
      ],
      "execution_count": 10,
      "outputs": [
        {
          "output_type": "stream",
          "text": [
            "Downloading oecd_bli_2015.csv\n",
            "Downloading gdp_per_capita.csv\n"
          ],
          "name": "stdout"
        }
      ]
    },
    {
      "cell_type": "code",
      "metadata": {
        "id": "i_Hg9nrciJ1r"
      },
      "source": [
        "# Load the data\n",
        "oecd_bli = pd.read_csv(datapath + \"oecd_bli_2015.csv\", thousands=',')\n",
        "gdp_per_capita = pd.read_csv(datapath + \"gdp_per_capita.csv\",thousands=',',delimiter='\\t',\n",
        "                             encoding='latin1', na_values=\"n/a\")"
      ],
      "execution_count": 12,
      "outputs": []
    },
    {
      "cell_type": "code",
      "metadata": {
        "id": "r8AT4eK7mKng"
      },
      "source": [
        "# Prepare the data\n",
        "country_stats = prepare_country_stats(oecd_bli, gdp_per_capita)\n",
        "X = np.c_[country_stats[\"GDP per capita\"]]\n",
        "y = np.c_[country_stats[\"Life satisfaction\"]]"
      ],
      "execution_count": 13,
      "outputs": []
    },
    {
      "cell_type": "code",
      "metadata": {
        "colab": {
          "base_uri": "https://localhost:8080/",
          "height": 286
        },
        "id": "9bX9kW1OmNGg",
        "outputId": "1df612e6-6624-47f6-e43b-327eeff966f4"
      },
      "source": [
        "# Visualize the data\n",
        "country_stats.plot(kind='scatter', x=\"GDP per capita\", y='Life satisfaction')\n",
        "plt.show()"
      ],
      "execution_count": 14,
      "outputs": [
        {
          "output_type": "display_data",
          "data": {
            "image/png": "[encoded data removed]",
            "text/plain": [
              "<Figure size 432x288 with 1 Axes>"
            ]
          },
          "metadata": {
            "tags": [],
            "needs_background": "light"
          }
        }
      ]
    },
    {
      "cell_type": "markdown",
      "metadata": {
        "id": "ghXGdxR6mh41"
      },
      "source": [
        "### (a) Regressão Linear"
      ]
    },
    {
      "cell_type": "code",
      "metadata": {
        "id": "PDa7a7nnmPkH"
      },
      "source": [
        "# Select a linear model\n",
        "model = sklearn.linear_model.LinearRegression()"
      ],
      "execution_count": 15,
      "outputs": []
    },
    {
      "cell_type": "code",
      "metadata": {
        "colab": {
          "base_uri": "https://localhost:8080/"
        },
        "id": "YcMeLp4lmSJB",
        "outputId": "34c4b22c-9729-40cf-b035-a92df23b2ae2"
      },
      "source": [
        "# Train the model\n",
        "model.fit(X, y)"
      ],
      "execution_count": 16,
      "outputs": [
        {
          "output_type": "execute_result",
          "data": {
            "text/plain": [
              "LinearRegression(copy_X=True, fit_intercept=True, n_jobs=None, normalize=False)"
            ]
          },
          "metadata": {
            "tags": []
          },
          "execution_count": 16
        }
      ]
    },
    {
      "cell_type": "code",
      "metadata": {
        "colab": {
          "base_uri": "https://localhost:8080/"
        },
        "id": "K7nTAbLumT74",
        "outputId": "e5b8cbab-ae7e-4a71-ae3c-b397cca017c4"
      },
      "source": [
        "# Make a prediction for Cyprus\n",
        "X_new = [[22587]]           # Cyprus's GDP per capita\n",
        "print(model.predict(X_new)) # outputs [[ 5.96242338]]"
      ],
      "execution_count": 17,
      "outputs": [
        {
          "output_type": "stream",
          "text": [
            "[[5.96242338]]\n"
          ],
          "name": "stdout"
        }
      ]
    },
    {
      "cell_type": "markdown",
      "metadata": {
        "id": "-deAx5N2moqo"
      },
      "source": [
        "### (b) k-NN"
      ]
    },
    {
      "cell_type": "code",
      "metadata": {
        "id": "JAGgFrkzmsRI"
      },
      "source": [
        "from sklearn.neighbors import KNeighborsRegressor\n",
        "\n",
        "# Select a linear model\n",
        "model = sklearn.neighbors.KNeighborsRegressor(n_neighbors=3)"
      ],
      "execution_count": 19,
      "outputs": []
    },
    {
      "cell_type": "code",
      "metadata": {
        "colab": {
          "base_uri": "https://localhost:8080/"
        },
        "id": "Pxqm1XGanFZr",
        "outputId": "77687fb9-fa4c-44ca-a417-dcc65f1e0e03"
      },
      "source": [
        "# Train the model\n",
        "model.fit(X, y)"
      ],
      "execution_count": 20,
      "outputs": [
        {
          "output_type": "execute_result",
          "data": {
            "text/plain": [
              "KNeighborsRegressor(algorithm='auto', leaf_size=30, metric='minkowski',\n",
              "                    metric_params=None, n_jobs=None, n_neighbors=3, p=2,\n",
              "                    weights='uniform')"
            ]
          },
          "metadata": {
            "tags": []
          },
          "execution_count": 20
        }
      ]
    },
    {
      "cell_type": "code",
      "metadata": {
        "colab": {
          "base_uri": "https://localhost:8080/"
        },
        "id": "Luj0XEibnH2C",
        "outputId": "c1ae7363-ee0b-4b37-b000-38eb020f40c4"
      },
      "source": [
        "# Make a prediction for Cyprus\n",
        "X_new = [[22587]]           # Cyprus's GDP per capita\n",
        "print(model.predict(X_new)) # outputs [[ 5.96242338]]"
      ],
      "execution_count": 21,
      "outputs": [
        {
          "output_type": "stream",
          "text": [
            "[[5.76666667]]\n"
          ],
          "name": "stdout"
        }
      ]
    },
    {
      "cell_type": "markdown",
      "metadata": {
        "id": "rMaBfrHfnoUP"
      },
      "source": [
        "## 3. Main Challenges of Machine Learning\n",
        "\n",
        "Os principais desafios enfrentados em uma tarefa de aprendizado de máquinas são:\n",
        "\n",
        "* Quantidade insuficiente de dados de treinamento\n",
        "\n",
        "* Dados de treinamento não representativos.\n",
        "\n",
        "* Baixa qualidade dos dados (dados de treinamento com muitos erros, outliers e ruídos).\n",
        "\n",
        "* Atributos irrelevantes.\n",
        "\n",
        "* Overfitting dos dados de treinamento.\n",
        "\n",
        "* Underfitting dos dados de treinamento."
      ]
    },
    {
      "cell_type": "markdown",
      "metadata": {
        "id": "q31eUQoMn6LA"
      },
      "source": [
        "## 4. Testing and Validating\n",
        "\n",
        "A única forma de saber se um modelo possui uma boa capacidade de generalização é tentar executá-lo sobre novos casos. Uma forma de fazer isso é colocar o modelo em produção e monitorar o seu desempenho. \n",
        "\n",
        "Uma boa opção é dividir os dados em 2 conjuntos: conjunto de treinamento e conjunto de teste. Portanto, inicialmente o modelo será treinado com o conjunto de treinamento e testado com o conjunto de teste. A taxa de erro sobre os novos casos corresponderá ao erro de generalização. Por meio da avaliação do modelo sobre o conjunto de teste, é possível obter uma estimativa deste erro. Portanto, o erro de generalização informa quão bem o modelo performará sobre instâncias nunca vistas antes.\n",
        "\n",
        "Se o erro de treinamento é baixo (o modelo erra pouco sobre o conjunto de treinamento) mas o erro de generalização é alto, então isso é indicativo de que o modelo está sobreajustando os dados de treinamento.\n"
      ]
    },
    {
      "cell_type": "markdown",
      "metadata": {
        "id": "XdNjeLDsCUFA"
      },
      "source": [
        "## 5. Hyperparameter Tuning and Model Selection\n",
        "\n",
        "**Holdout validation**: parte do conjunto de treinamento é separado para avaliação dos modelos candidatos e seleção do melhor. Essa parte do conjunto de treinamento utilizada para avaliação dos modelos candidatos é chamada de conjunto de validação.\n",
        "\n",
        "Mais especificamente, múltiplos modelos são treinados com vários hiperparâmetros sobre o conjunto de treinamento reduzido (conjunro de treinamento menos o conjunto de validação). O modelo selecionado será aquele que possui o melhor desempenho sobre o conjunto de validação. Depois deste processo de holdout validation, o melhor modelo é treinado sobre o conjunto de treinamento completo (original), obtendo um modelo final. Por fim, avalia-se este modelo final sobre o conjunto de teste para obter uma estimativa do erro de generalização.\n",
        "\n",
        "Se o conjunto de validação é muito pequeno, então as avaliações do modelo serão imprecisas. Por outro lado, se o conjunto de validação for muito grande, então o conjunto de treinamento remanescente será muito pequeno (em relação ao conjunto de treinamento completo). Apesar de o modelo final ser treinado sobre o conjunto de treinamento completo, não é o ideal comparar modelos candidatos treinados sobre um conjunto de treinamento muito pequenos.\n",
        "\n",
        "Uma alterantiva é a realização de repetidas validações cruzadas (*cross-validation*), utilizando muitos conjuntos de validação pequenos. Cada modelo é avaliado uma vez por conjunto de validação após ser treinado no restante dos dados. Esse processo permitirá um melhor medida de acurácia sobre o desempenho do modelo. Uma desvantagem é o tempo de treinamento (multiplicado pelo número de conjuntos de validação)."
      ]
    }
  ]
}