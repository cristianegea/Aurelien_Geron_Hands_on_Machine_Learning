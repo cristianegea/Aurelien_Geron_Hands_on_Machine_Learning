{
  "nbformat": 4,
  "nbformat_minor": 0,
  "metadata": {
    "colab": {
      "name": "1. The Machine Learning Landscape.ipynb",
      "provenance": [],
      "collapsed_sections": [],
      "toc_visible": true,
      "authorship_tag": "ABX9TyOC6K4uhXYU4qT/XSY6xx/v",
      "include_colab_link": true
    },
    "kernelspec": {
      "name": "python3",
      "display_name": "Python 3"
    },
    "language_info": {
      "name": "python"
    }
  },
  "cells": [
    {
      "cell_type": "markdown",
      "metadata": {
        "id": "view-in-github",
        "colab_type": "text"
      },
      "source": [
        "<a href=\"https://colab.research.google.com/github/cristianegea/Aurelien_Geron_Hands_on_Machine_Learning/blob/main/1_The_Machine_Learning_Landscape.ipynb\" target=\"_parent\"><img src=\"https://colab.research.google.com/assets/colab-badge.svg\" alt=\"Open In Colab\"/></a>"
      ]
    },
    {
      "cell_type": "markdown",
      "metadata": {
        "id": "GBvfG2xatsM-"
      },
      "source": [
        "# Livro: Hands-On Machine Learning with Scikit-Learn, Keras, and TensorFlow: Concepts, Tools, and Techniques to Build Intelligent Systems\n",
        "\n",
        "# Autor: Aurélien Géron\n",
        "\n",
        "# Chapter 1 - The Machine Learning Landscape"
      ]
    },
    {
      "cell_type": "markdown",
      "metadata": {
        "id": "ZhSuSXDvv1Ol"
      },
      "source": [
        "## 1. What is Machine Learning?\n",
        "\n",
        "Machine Learning é o campo de estudo que dá aos computadores a capacidade de aprender sem serem explicitamente programados (Arthur Samuel 1959).\n",
        "\n",
        "Um programa de computador é aprende a partir da experiência E, acerca de alguma tarefa T e com alguma medida de desempenho P, e seu desempenho em T melhora com a experiência E (Tom Mitchell 1997).\n",
        "\n",
        "Os exemplos que o sistema utiliza são chamados de conjunto de treinamento (trainning set), onde cada exemplo de treinamento é chamado de instância de treinamento (ou amostra).\n",
        "\n"
      ]
    },
    {
      "cell_type": "markdown",
      "metadata": {
        "id": "Fg_DCcm6y_ak"
      },
      "source": [
        "## 2. Types of Machine Learning Systems\n",
        "\n",
        "Critérios utilizados para diferenciar os diferentes tipos de sisyemas de aprendizado de máquinas:\n",
        "\n",
        "* Se são, ou não, treinados com supervisão humana (aprendizado supervisionado, não supervisionado, semi-supervisionado, por reforço).\n",
        "\n",
        "* Se podem, ou não, aprender incrementalmente na hora (aprendizado online, aprendizado por batch).\n",
        "\n",
        "* Se trabalham simplesmente comparando novos pontos de dados com pontos de dados conhecidos, ou detectando padrões nos dados de treinamento e construindo um modelo preditivo (aprendizado baseado em instância, aprendizado baseado em modelo).\n",
        "\n",
        "Os critérios acima não são exclusivos, mas podem ser combinados com quaisquer outros.\n",
        "\n",
        "### 2.1. Supervised/Unsupervised Learning\n",
        "\n",
        "Sistemas de aprendizado de máquinas podem ser classificados de acordo com o montante e o tipo de supervisão que eles obtém durante o treinamento.\n",
        "\n",
        "**Aprendizado supervisionado (supervised learning)**:\n",
        "\n",
        "* O conjunto de treinamento possui rótulos (ou seja, inclui as soluções desejáveis). Ex.: classificação, regressão.\n",
        "\n",
        "* Principais algoritmos de aprendizado supervisionado: k-Nearest Neighbors (k-NN), Regressão Linear, Regressão Logística, Support Vector Machine (SVM), Decision Tree e Random Forest, Redes Neurais.\n",
        "\n",
        "**Aprendizado não supervisionado**:\n",
        "\n",
        "* O conjunto de treinamento não possui rótulos (ou seja, o sistema aprende sem um professor).\n",
        "\n",
        "* Principais algoritmos de aprendizado não supervisionado: agrupamento (K-Means, DBSCAN, Hierarchical Cluster Analysis - HCA), detecção de anomalias/detecção de novidades (One-class SVM, Isolation Forext), visualização/redução de dimensionalidade (Principal Component Analysis - PCA, Kernel PCA, Locallu Linear Embedding (LLE)"
      ]
    },
    {
      "cell_type": "markdown",
      "metadata": {
        "id": "Q7JLZjS_0Y-x"
      },
      "source": [
        ""
      ]
    }
  ]
}