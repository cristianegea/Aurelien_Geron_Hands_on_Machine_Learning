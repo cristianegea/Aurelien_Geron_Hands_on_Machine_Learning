{
  "nbformat": 4,
  "nbformat_minor": 0,
  "metadata": {
    "colab": {
      "name": "1. O Cenário do Aprendizado de Máquina.ipynb",
      "provenance": [],
      "collapsed_sections": [],
      "toc_visible": true,
      "authorship_tag": "ABX9TyPWpgJRELv5Kf+7rSSee4EX",
      "include_colab_link": true
    },
    "kernelspec": {
      "name": "python3",
      "display_name": "Python 3"
    },
    "language_info": {
      "name": "python"
    }
  },
  "cells": [
    {
      "cell_type": "markdown",
      "metadata": {
        "id": "view-in-github",
        "colab_type": "text"
      },
      "source": [
        "<a href=\"https://colab.research.google.com/github/cristianegea/Aurelien_Geron_Hands_on_Machine_Learning/blob/main/1_O_Cen%C3%A1rio_do_Aprendizado_de_M%C3%A1quina.ipynb\" target=\"_parent\"><img src=\"https://colab.research.google.com/assets/colab-badge.svg\" alt=\"Open In Colab\"/></a>"
      ]
    },
    {
      "cell_type": "markdown",
      "metadata": {
        "id": "GBvfG2xatsM-"
      },
      "source": [
        "# Livro: Mãos à Obra Aprendizado Máquina com Scikit-Learn e TensorFlow: Conceitos, Ferramentas e Técnicas para a Construção de Sistemas Inteligentes\n",
        "\n",
        "# Autor: Aurélien Géron\n",
        "\n",
        "# Capítulo 1: O Cenário do Aprendizado de Máquina"
      ]
    },
    {
      "cell_type": "markdown",
      "metadata": {
        "id": "ZhSuSXDvv1Ol"
      },
      "source": [
        "## 1. O que É o Aprendizado de Máquina?\n",
        "\n",
        "Machine Learning é o campo de estudo que dá aos computadores a capacidade de aprender sem serem explicitamente programados (Arthur Samuel 1959).\n",
        "\n",
        "Um programa de computador é aprende a partir da experiência E, acerca de alguma tarefa T e com alguma medida de desempenho P, e seu desempenho em T melhora com a experiência E (Tom Mitchell 1997).\n",
        "\n",
        "Os exemplos que o sistema utiliza são chamados de conjunto de treinamento (trainning set), onde cada exemplo de treinamento é chamado de instância de treinamento (ou amostra).\n",
        "\n"
      ]
    },
    {
      "cell_type": "markdown",
      "metadata": {
        "id": "Fg_DCcm6y_ak"
      },
      "source": [
        "## 2. Tipos de Sistemas do Aprendizado de Máquina\n",
        "\n",
        "Critérios utilizados para diferenciar os diferentes tipos de sisyemas de aprendizado de máquinas:\n",
        "\n",
        "* Se são, ou não, treinados com supervisão humana (aprendizado supervisionado, não supervisionado, semi-supervisionado, por reforço).\n",
        "\n",
        "* Se podem, ou não, aprender rapidamente, de forma incremental (aprendizado online, aprendizado por batch/lote).\n",
        "\n",
        "* Se trabalham simplesmente comparando novos pontos de dados com pontos de dados conhecidos, ou detectando padrões nos dados de treinamento e construindo um modelo preditivo (aprendizado baseado em instância, aprendizado baseado em modelo).\n",
        "\n",
        "Os critérios acima não são exclusivos, mas podem ser combinados com quaisquer outros.\n"
      ]
    },
    {
      "cell_type": "markdown",
      "metadata": {
        "id": "Q7JLZjS_0Y-x"
      },
      "source": [
        "### 2.1. Aprendizado Supervisionado/Não Supervisionado\n",
        "\n",
        "Sistemas de aprendizado de máquinas podem ser classificados de acordo com o montante e o tipo de supervisão que eles obtém durante o treinamento.\n",
        "\n",
        "**Aprendizado supervisionado (supervised learning)**:\n",
        "\n",
        "* O conjunto de treinamento possui rótulos (ou seja, inclui as soluções desejáveis). Ex.: classificação, regressão.\n",
        "\n",
        "* Principais algoritmos de aprendizado supervisionado: k-Nearest Neighbors (k-NN), Regressão Linear, Regressão Logística, Support Vector Machine (SVM), Decision Tree e Random Forest, Redes Neurais (dependendo da arquitetura).\n",
        "\n",
        "**Aprendizado não supervisionado (Unsupervised Learning)**:\n",
        "\n",
        "* O conjunto de treinamento não possui rótulos (ou seja, o sistema aprende sem um professor).\n",
        "\n",
        "* Principais algoritmos de aprendizado não supervisionado: agrupamento (K-Means, DBSCAN, Hierarchical Cluster Analysis - HCA), detecção de anomalias/detecção de novidades (One-class SVM, Isolation Forext), visualização/redução de dimensionalidade (Principal Component Analysis - PCA, Kernel PCA, Locally Linear Embedding - LLE, t-Distributed Stochastic Neighbor Embedding - t-SNE), regra de associação (Apriori, Eclat).\n",
        "\n",
        "* Algoritmos de visualização: são alimentados com muitos dados complexos e não rotulados e exibem uma representação 2D ou 3D de seus dados (que podem ser plotados). Estes algoritmos tentam preservar o máximo da estrutura para melhor compreensão de como os dados estão organizados e identificação de padrões ignorados.\n",
        "\n",
        "* Redução de dimensionalidade: tarefa cujo objetivo é simplificar os dados sem perda de muitas informações. Uma forma de realizar tal tarefa é mesclar várias características correlacionadas em uma.\n",
        "\n",
        "* Detecção de anomalias: o sistema é treinado com instâncias normais e, quando visualiza uma nova instância, avalia se ela parece normal ou se é uma provável anomalia.\n",
        "\n",
        "* Aprendizado de regras de associação: objetiva se aprofundar em grandes quantidades de dados para descobrir relações interessantes entre os atributos.\n",
        "\n",
        "**Aprendizado semi-supervisionado (Semisupervised Learning)**:\n",
        "\n",
        "* O conjunto de treinamento é parcialmente rotulado (ou seja, possui poucas instâncias rotuladas, enquanto as demais não estão rotuladas).\n",
        "\n",
        "* A maioria dos algoritmos de aprendizado semi-supervisionado são combinações de algoritmos de aprendizado supervisionado e de aprendizado não supervisionado. Ex.: Redes Neurais profundas.\n",
        "\n",
        "**Aprendizado por reforço (Reinforcement Learning)**:\n",
        "\n",
        "* Possui uma dinâmica diferente dos demais tipos de aprendizado.\n",
        "\n",
        "* O sistema de aprendizado (agente) pode observar o ambiente, selecionar e executar ações. Com isso, pode obter recompensas no retorno (ou penalidades na forma de recompensas negativas). A parti daí, o sistema deve aprender por si só qual é a melhor estratégia (política) a ser adotada para obter o máximo de recompensa ao longo do tempo. Uma política define qual ação o agente deve escolher em determinada situação."
      ]
    },
    {
      "cell_type": "markdown",
      "metadata": {
        "id": "ogPhDR7zCm6y"
      },
      "source": [
        "### 2.2. Aprendizado Online e em Lote\n",
        "\n",
        "O sistema de aprendizado de máquinas pode ser classificado pela capacidade de aprender incrementalmente a partir do fluxo de dados de entrada.\n",
        "\n",
        "**Batch Learning (aprendizado offline)**:\n",
        "\n",
        "* O sistema é incapaz de aprender incrementalmente. Assim, o sistema deve ser treinado utilizando todos os dados disponíveis.\n",
        "\n",
        "* Esse tipo de aprendizado toma bastante tempo e recursos computacionais (principalmente feito offline).\n",
        "\n",
        "* Inicialmente, o sistema é treinado. Posteriormente, é lançado em produção e executado sem aprender mais nada, aplicando somente o que já tinha aprendido.\n",
        "\n",
        "* Para o sistema aprender novos dados é preciso treinar uma nova versão deste sistema no novo conjunto de dados (contendo tanto os dados antigos como os dados novos). Contudo, esse processo requer a substituição da versão antiga do sistema pela versão nova.\n",
        "\n",
        "* O processo de treinamento, avaliação e produção do sistema pode ser automatizado, uma vez que o sistema de aprendizado por batch/lote pode se adaptar a mudanças.\n",
        "\n",
        "**Aprendizado online**:\n",
        "\n",
        "* O sistema pode ser treinado incrementalmente pela alimentação das instâncias de dados sequencialmente, ou individualmente ou em pequenos grupos (mini-batches/minilotes).\n",
        "\n",
        "* Cada etapa de aprendizado, além de ser mais rápida, é menos custosa.\n",
        "\n",
        "* O sistema pode aprender rapidamente sobre os novos dados assim que eles chegam.\n",
        "\n",
        "* É ideal para sistemas que recebem dados em um fluxo contínuo e precisam se adaptar rapidamente a mudanças. Também é indicado quando os recursos computacionais são limitados.\n",
        "\n",
        "* É indicado para casos onde a memória principal da máquina não comporta a grande quantidade de dados. Neste caso, o algoritmo carrega parte dos dados, executa uma etapa do treinamento nesses dados e repete o processo até que ele tenha sido executado em todos os dados.\n",
        "\n",
        "* Taxa de aprendizado: mede o tempo que o sistema leva para se adaptar às mudanças dos dados. Se a taxa de aprendizado for alta, o sistema se adaptará rapidamente aos novos dados, mas tenderá a se esquecer rapidamente os antigos. Por outro lado, se a taxa de aprendizado for baixa, o sistema terá mais inércia (aprenderá mais devagar), mas também será menos sensível ao apontar novos dados ou sequências de pontos de dados não representativos.\n",
        "\n",
        "Obs.: todo o processo geralmente é feito *offline* (não funciona ao vivo), seguindo a linha do aprendizado incremental.\n"
      ]
    },
    {
      "cell_type": "markdown",
      "metadata": {
        "id": "IfiP4DnlND7L"
      },
      "source": [
        "### 2.3. Aprendizado Baseado em Instância Versus *vs.* Aprendizado Baseado em Modelo\n",
        "\n",
        "Uma forma de categorizar os sistemas de aprendizado de máquinas é pela sua capacidade de generalização.\n",
        "\n",
        "A maioria das tarefas de aprendizado de máquinas é sobre predições. Dado um número de exemplos de treinamentos, o sistema necessida ser capaz de generalizar em exemplos que nunca viu antes. \n",
        "\n",
        "Abordagens para generalização:\n",
        "\n",
        "* **Aprendizado baseado em instância**: o sistema aprende os exemplos por memorização, então generaliza para os novos casos utilizando medidas de similaridade, para compará-los aos exemplos de aprendizado.\n",
        "\n",
        "* **Aprendizado baseado em modelo**: primeiramente, é construído um modelo a partir dos exemplos e, posteriormente, este mesmo modelo é utilizado para fazer predições."
      ]
    },
    {
      "cell_type": "markdown",
      "metadata": {
        "id": "dyoEjn4zPFdL"
      },
      "source": [
        "## Exemplo: Dinheiro traz felicidade? "
      ]
    },
    {
      "cell_type": "markdown",
      "metadata": {
        "id": "warOJc2FXgjy"
      },
      "source": [
        "Amostra dos dados\n",
        "\n",
        "* PIB per capita: fonte FMI\n",
        "\n",
        "* Índice de Satisfação de Vida (*Better Life Index*): fonte OCDE"
      ]
    },
    {
      "cell_type": "markdown",
      "metadata": {
        "id": "4c99Ar7MXbhJ"
      },
      "source": [
        "![image.png](data:image/png;base64,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)"
      ]
    },
    {
      "cell_type": "markdown",
      "metadata": {
        "id": "RbcNDo3TXyTD"
      },
      "source": [
        "Hipótese a ser testada ($H_0$): dinheiro traz felicidade.  \n",
        "\n",
        "$$\n",
        "\\text{life_satisfaction} = \\theta_0 + \\theta_1 \\times \\text{GDP_per_capita}\n",
        "$$\n",
        "\n",
        "onde $\\text{life_satisfaction}$ corresponde a *Better Life Index* (fonte OCDE) e $\\text{GDP_per_capita}$ corresponde ao PIB per capita (fonte FMI). O modelo possui 2 parâmetros, $\\theta_0$ e $\\theta_1$.\n",
        "\n",
        "Antes de utilizar o modelo, é preciso definir o valor dos parâmetros $\\theta_0$ e $\\theta_1$.\n",
        "\n",
        "Para problemas de regressão linear, geralmente é utilizada uma função de custo, que mede a distância entre as predições do modelo linear e os exemplos de treinamento. O objetivo é minimizar esta distância (minimizar a função de custo).\n",
        "\n",
        "Treinamento do modelo: o algoritmo utiliza os exemplos de treinamento a fim de encontrar os parâmetros que tornam o modelo de regressão linear mais adequado aos dados."
      ]
    },
    {
      "cell_type": "code",
      "metadata": {
        "id": "CRcKhF6_hPxK"
      },
      "source": [
        "# Bibliotecas\n",
        "import matplotlib.pyplot as plt\n",
        "import numpy as np\n",
        "import pandas as pd\n",
        "import sklearn.linear_model\n",
        "from sklearn.neighbors import KNeighborsRegressor"
      ],
      "execution_count": null,
      "outputs": []
    },
    {
      "cell_type": "code",
      "metadata": {
        "id": "RuKyplj7i672"
      },
      "source": [
        "# Preparação dos dados da OCDE com os dados do FMI\n",
        "def prepare_country_stats(oecd_bli, gdp_per_capita):\n",
        "    oecd_bli = oecd_bli[oecd_bli[\"INEQUALITY\"]==\"TOT\"]\n",
        "    oecd_bli = oecd_bli.pivot(index=\"Country\", columns=\"Indicator\", values=\"Value\")\n",
        "    gdp_per_capita.rename(columns={\"2015\": \"GDP per capita\"}, inplace=True)\n",
        "    gdp_per_capita.set_index(\"Country\", inplace=True)\n",
        "    full_country_stats = pd.merge(left=oecd_bli, right=gdp_per_capita,\n",
        "                                  left_index=True, right_index=True)\n",
        "    full_country_stats.sort_values(by=\"GDP per capita\", inplace=True)\n",
        "    remove_indices = [0, 1, 6, 8, 33, 34, 35]\n",
        "    keep_indices = list(set(range(36)) - set(remove_indices))\n",
        "    return full_country_stats[[\"GDP per capita\", 'Life satisfaction']].iloc[keep_indices]"
      ],
      "execution_count": null,
      "outputs": []
    },
    {
      "cell_type": "markdown",
      "metadata": {
        "id": "vFJVirgakgEY"
      },
      "source": [
        "Segundo o autor, o código no livro espera que os arquivos dos dados sejam localizados no diretório atual (neste caso, diretório do autor no GitHub)."
      ]
    },
    {
      "cell_type": "code",
      "metadata": {
        "id": "UrYwExpMjIjx"
      },
      "source": [
        "import os\n",
        "datapath = os.path.join(\"datasets\", \"lifesat\", \"\")"
      ],
      "execution_count": null,
      "outputs": []
    },
    {
      "cell_type": "code",
      "metadata": {
        "id": "GFnk2ZEWk2ap"
      },
      "source": [
        "# To plot pretty figures directly within Jupyter\n",
        "%matplotlib inline\n",
        "import matplotlib as mpl\n",
        "mpl.rc('axes', labelsize=14)\n",
        "mpl.rc('xtick', labelsize=12)\n",
        "mpl.rc('ytick', labelsize=12)"
      ],
      "execution_count": null,
      "outputs": []
    },
    {
      "cell_type": "code",
      "metadata": {
        "colab": {
          "base_uri": "https://localhost:8080/"
        },
        "id": "XuYnGvQFheej",
        "outputId": "0e8f5dbc-9eee-42a2-b5ba-d1d33fc0170d"
      },
      "source": [
        "# Download the data \n",
        "import urllib.request\n",
        "DOWNLOAD_ROOT = \"https://raw.githubusercontent.com/ageron/handson-ml2/master/\"\n",
        "os.makedirs(datapath, exist_ok=True)\n",
        "for filename in (\"oecd_bli_2015.csv\", \"gdp_per_capita.csv\"):\n",
        "    print(\"Downloading\", filename)\n",
        "    url = DOWNLOAD_ROOT + \"datasets/lifesat/\" + filename\n",
        "    urllib.request.urlretrieve(url, datapath + filename)"
      ],
      "execution_count": null,
      "outputs": [
        {
          "output_type": "stream",
          "text": [
            "Downloading oecd_bli_2015.csv\n",
            "Downloading gdp_per_capita.csv\n"
          ],
          "name": "stdout"
        }
      ]
    },
    {
      "cell_type": "code",
      "metadata": {
        "id": "i_Hg9nrciJ1r"
      },
      "source": [
        "# Load the data\n",
        "oecd_bli = pd.read_csv(datapath + \"oecd_bli_2015.csv\", thousands=',')\n",
        "gdp_per_capita = pd.read_csv(datapath + \"gdp_per_capita.csv\",thousands=',',delimiter='\\t',\n",
        "                             encoding='latin1', na_values=\"n/a\")"
      ],
      "execution_count": null,
      "outputs": []
    },
    {
      "cell_type": "code",
      "metadata": {
        "id": "r8AT4eK7mKng"
      },
      "source": [
        "# Prepare the data\n",
        "country_stats = prepare_country_stats(oecd_bli, gdp_per_capita)\n",
        "X = np.c_[country_stats[\"GDP per capita\"]]\n",
        "y = np.c_[country_stats[\"Life satisfaction\"]]"
      ],
      "execution_count": null,
      "outputs": []
    },
    {
      "cell_type": "code",
      "metadata": {
        "colab": {
          "base_uri": "https://localhost:8080/",
          "height": 286
        },
        "id": "9bX9kW1OmNGg",
        "outputId": "1df612e6-6624-47f6-e43b-327eeff966f4"
      },
      "source": [
        "# Visualize the data\n",
        "country_stats.plot(kind='scatter', x=\"GDP per capita\", y='Life satisfaction')\n",
        "plt.show()"
      ],
      "execution_count": null,
      "outputs": [
        {
          "output_type": "display_data",
          "data": {
            "image/png": "[encoded data removed]",
            "text/plain": [
              "<Figure size 432x288 with 1 Axes>"
            ]
          },
          "metadata": {
            "tags": [],
            "needs_background": "light"
          }
        }
      ]
    },
    {
      "cell_type": "markdown",
      "metadata": {
        "id": "ghXGdxR6mh41"
      },
      "source": [
        "### (a) Regressão Linear"
      ]
    },
    {
      "cell_type": "code",
      "metadata": {
        "id": "PDa7a7nnmPkH"
      },
      "source": [
        "# Select a linear model\n",
        "model = sklearn.linear_model.LinearRegression()"
      ],
      "execution_count": null,
      "outputs": []
    },
    {
      "cell_type": "code",
      "metadata": {
        "colab": {
          "base_uri": "https://localhost:8080/"
        },
        "id": "YcMeLp4lmSJB",
        "outputId": "34c4b22c-9729-40cf-b035-a92df23b2ae2"
      },
      "source": [
        "# Train the model\n",
        "model.fit(X, y)"
      ],
      "execution_count": null,
      "outputs": [
        {
          "output_type": "execute_result",
          "data": {
            "text/plain": [
              "LinearRegression(copy_X=True, fit_intercept=True, n_jobs=None, normalize=False)"
            ]
          },
          "metadata": {
            "tags": []
          },
          "execution_count": 16
        }
      ]
    },
    {
      "cell_type": "code",
      "metadata": {
        "colab": {
          "base_uri": "https://localhost:8080/"
        },
        "id": "K7nTAbLumT74",
        "outputId": "e5b8cbab-ae7e-4a71-ae3c-b397cca017c4"
      },
      "source": [
        "# Make a prediction for Cyprus\n",
        "X_new = [[22587]]           # Cyprus's GDP per capita\n",
        "print(model.predict(X_new)) # outputs [[ 5.96242338]]"
      ],
      "execution_count": null,
      "outputs": [
        {
          "output_type": "stream",
          "text": [
            "[[5.96242338]]\n"
          ],
          "name": "stdout"
        }
      ]
    },
    {
      "cell_type": "markdown",
      "metadata": {
        "id": "-deAx5N2moqo"
      },
      "source": [
        "### (b) k-NN"
      ]
    },
    {
      "cell_type": "code",
      "metadata": {
        "id": "JAGgFrkzmsRI"
      },
      "source": [
        "# Select a linear model\n",
        "model = sklearn.neighbors.KNeighborsRegressor(n_neighbors=3)"
      ],
      "execution_count": null,
      "outputs": []
    },
    {
      "cell_type": "code",
      "metadata": {
        "colab": {
          "base_uri": "https://localhost:8080/"
        },
        "id": "Pxqm1XGanFZr",
        "outputId": "77687fb9-fa4c-44ca-a417-dcc65f1e0e03"
      },
      "source": [
        "# Train the model\n",
        "model.fit(X, y)"
      ],
      "execution_count": null,
      "outputs": [
        {
          "output_type": "execute_result",
          "data": {
            "text/plain": [
              "KNeighborsRegressor(algorithm='auto', leaf_size=30, metric='minkowski',\n",
              "                    metric_params=None, n_jobs=None, n_neighbors=3, p=2,\n",
              "                    weights='uniform')"
            ]
          },
          "metadata": {
            "tags": []
          },
          "execution_count": 20
        }
      ]
    },
    {
      "cell_type": "code",
      "metadata": {
        "colab": {
          "base_uri": "https://localhost:8080/"
        },
        "id": "Luj0XEibnH2C",
        "outputId": "c1ae7363-ee0b-4b37-b000-38eb020f40c4"
      },
      "source": [
        "# Make a prediction for Cyprus\n",
        "X_new = [[22587]]           # Cyprus's GDP per capita\n",
        "print(model.predict(X_new)) # outputs [[ 5.96242338]]"
      ],
      "execution_count": null,
      "outputs": [
        {
          "output_type": "stream",
          "text": [
            "[[5.76666667]]\n"
          ],
          "name": "stdout"
        }
      ]
    },
    {
      "cell_type": "markdown",
      "metadata": {
        "id": "rMaBfrHfnoUP"
      },
      "source": [
        "## 3. Principais Desafios do Aprendizado de Máquina\n",
        "\n",
        "Os principais desafios enfrentados em uma tarefa de aprendizado de máquinas são:\n",
        "\n",
        "* Quantidade insuficiente de dados de treinamento (é preciso uma grande quantidade de dados para que a maioria dos algoritmos de Aprendizado de Máquinas funcione corretamente).\n",
        "\n",
        "* Dados de treinamento não representativos (a fim de generalizar bem, é crucial que os dados de treinamento sejam representativos dos novos casos para os quais deseja-se generalizar, não importando se o aprendizado é baseado em instâncias ou baseado em modelo). A utilização de conjunto de treinamento não representativo implicará na obtenção de um modelo que dificilmente fará previsões precisas.\n",
        "\n",
        "* Baixa qualidade dos dados (dados de treinamento com muitos erros, outliers e ruídos dificultam a detecção de padrões subjacentes).\n",
        "\n",
        "* Atributos irrelevantes (o sistema somente será capaz de aprender se os dados de treinamento contiverem características relevantes suficientes e poucas características irrelevantes).\n",
        "\n",
        "* Overfitting dos dados de treinamento (modelo funciona bem nos dados de treinamento, mas não possui boa capacidade de generalização). O sobreajuste acontece quando o modelo é muito complexo à quantidade e ao ruído dos dados de treinamento.\n",
        "\n",
        "* Underfitting dos dados de treinamento (acontece quando o modelo é muito simples para o aprendizado da estrutura subjacente dos dados)."
      ]
    },
    {
      "cell_type": "markdown",
      "metadata": {
        "id": "q31eUQoMn6LA"
      },
      "source": [
        "## 4. Testando e Validando\n",
        "\n",
        "A única forma de saber se um modelo possui uma boa capacidade de generalização é tentar executá-lo sobre novos casos. Uma forma de fazer isso é colocar o modelo em produção e monitorar o seu desempenho. \n",
        "\n",
        "Uma boa opção é dividir os dados em 2 conjuntos: conjunto de treinamento e conjunto de teste. Portanto, inicialmente o modelo será treinado com o conjunto de treinamento e testado com o conjunto de teste. A taxa de erro sobre os novos casos corresponderá ao erro de generalização. Por meio da avaliação do modelo sobre o conjunto de teste, é possível obter uma estimativa deste erro. Portanto, o erro de generalização informa quão bem o modelo performará sobre instâncias nunca vistas antes.\n",
        "\n",
        "Se o erro de treinamento é baixo (o modelo erra pouco sobre o conjunto de treinamento) mas o erro de generalização é alto, então isso é indicativo de que o modelo está sobreajustando os dados de treinamento.\n",
        "\n",
        "Conjunto de validação: conjunto de dados utilizados para a seleção dos hiperparâmetros do algoritmo de aprendizado de máquinas. Neste caso, vários modelos são treinados com vários hiperparâmetros utilizando o conjunto de treinamento, o modelo e os hiperparâmetros selecionados serão aqueles que atuam melhor no conjunto de validação.\n",
        "\n",
        "Validação cruzada: o conjunto de treinamento é dividido em subconjuntos complementares e cada modelo é treinado como uma combinação diferente desses subconjuntos e validado em relação às partes restantes. Uma vez selecionado o tipo de modelo e os hiperparâmetros, um modelo final é treinado com a utilização desses hiperparâmetros no conjunto completo de treinamento e o erro de generalização é medido no conjunto de testes."
      ]
    },
    {
      "cell_type": "markdown",
      "metadata": {
        "id": "XdNjeLDsCUFA"
      },
      "source": [
        "## 5. Sintonização dos Hiperparâmetros e Seleção do Modelo\n",
        "\n",
        "**Holdout validation**: parte do conjunto de treinamento é separado para avaliação dos modelos candidatos e seleção do melhor. Essa parte do conjunto de treinamento utilizada para avaliação dos modelos candidatos é chamada de conjunto de validação.\n",
        "\n",
        "Mais especificamente, múltiplos modelos são treinados com vários hiperparâmetros sobre o conjunto de treinamento reduzido (conjunro de treinamento menos o conjunto de validação). O modelo selecionado será aquele que possui o melhor desempenho sobre o conjunto de validação. Depois deste processo de holdout validation, o melhor modelo é treinado sobre o conjunto de treinamento completo (original), obtendo um modelo final. Por fim, avalia-se este modelo final sobre o conjunto de teste para obter uma estimativa do erro de generalização.\n",
        "\n",
        "Se o conjunto de validação é muito pequeno, então as avaliações do modelo serão imprecisas. Por outro lado, se o conjunto de validação for muito grande, então o conjunto de treinamento remanescente será muito pequeno (em relação ao conjunto de treinamento completo). Apesar de o modelo final ser treinado sobre o conjunto de treinamento completo, não é o ideal comparar modelos candidatos treinados sobre um conjunto de treinamento muito pequenos.\n",
        "\n",
        "Uma alterantiva é a realização de repetidas validações cruzadas (*cross-validation*), utilizando muitos conjuntos de validação pequenos. Cada modelo é avaliado uma vez por conjunto de validação após ser treinado no restante dos dados. Esse processo permitirá um melhor medida de acurácia sobre o desempenho do modelo. Uma desvantagem é o tempo de treinamento (multiplicado pelo número de conjuntos de validação)."
      ]
    }
  ]
}